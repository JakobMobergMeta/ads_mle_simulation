{
 "cells": [
  {
   "cell_type": "code",
   "execution_count": 137,
   "metadata": {
    "bentoAICellStatus": "none",
    "collapsed": false,
    "executionStartTime": 1758652453758,
    "executionStopTime": 1758652454198,
    "isCommentPanelOpen": false,
    "jupyter": {
     "outputs_hidden": false
    },
    "language": "python",
    "originalKey": "76e71f37-5e31-46da-8c8e-61fc16934983",
    "output": {
     "id": "1859555791655973",
     "output_revision_id": "1357615245704563"
    },
    "outputsInitialized": true,
    "requestMsgId": "b56c7836-3f0c-4665-acb3-35e7a29bdeb9",
    "serverExecutionDuration": 105.94878531992
   },
   "outputs": [
    {
     "name": "stderr",
     "output_type": "stream",
     "text": [
      "W0923 113414.228 local_changes_magic.py:392] local changes still enabled\n",
      "W0923 113414.229 local_changes_magic.py:439] autoreload level unchanged (currently 2)\n",
      "I0923 113414.330 magics.py:89] %autoreload was called with parameter_s='2 aggressive_experimental'\n"
     ]
    }
   ],
   "source": [
    "%local-changes"
   ]
  },
  {
   "cell_type": "markdown",
   "metadata": {
    "bentoAICellStatus": "none",
    "customInput": null,
    "isCommentPanelOpen": false,
    "language": "markdown",
    "originalKey": "ecca23a7-4830-4592-a4c8-fdb5ce8662d0",
    "outputsInitialized": false,
    "showInput": false
   },
   "source": [
    "### Task: Find the best model for 60 days\n",
    "You got 10 tries to find the best architecture\n",
    "\n",
    "\n",
    "### input format\n",
    "\n",
    "arch: [[]] \n",
    "\n",
    "\n",
    "\n",
    "##### parameter ranges:\n",
    "##### layer sizes: 64 - 2048\n",
    "\n",
    "##### layers: 1-5\n",
    "\n",
    "##### sub_arches 1-5 \n",
    "\n",
    "##### training_days: 60\n",
    "\n",
    "example:\n",
    "##### arch =[[64, 64] , [128,128], [....] , [....] , [....] ]\n",
    "an example architecture with  5 sub_arches\n",
    "with the first two subarches having 2 layers of size 64,  and 128 respectively \n",
    "\n",
    "\n",
    "### BASELINE\n",
    "##### BASELINE_NE :  0.559786328135504\n",
    "\n",
    "#### baseline_architecture = [[256,256], [512, 512], [256,256], [64], [64]]\n",
    "\n",
    "### Evaluation:\n",
    "\n",
    "qps need to be > 3500\n",
    "score is calculated by % improvement from BASELINE_NE\n",
    "\n",
    "    #def get_score(self, ne: float) -> float:\n",
    "    #    baseline_ne = self.model_config_dict[\"BASELINE_NE\"]\n",
    "    #    return (baseline_ne - ne) / baseline_ne\n",
    "\n",
    "\n",
    "\n",
    "### Sample code\n",
    "\n",
    "```python\n",
    "from admarket.ads_copilot.common.training_simulation.model_performance_api import  ModelPerformanceAPI\n",
    "\n",
    "model = ModelPerformanceAPI()\n",
    "config = model.get_default_model_config_dict()\n",
    "config[\"GLOBAL_NOISE_SCALE\"] = 0.0\n",
    "model = ModelPerformanceAPI(config)\n",
    "ne, qps, curve = model.train_model(training_days= 60, arch=[[64,64]],ignore_budget=True)\n",
    "model.get_score(ne)\n",
    "```"
   ]
  },
  {
   "cell_type": "code",
   "execution_count": 138,
   "metadata": {
    "bentoAICellStatus": "none",
    "collapsed": false,
    "customInput": null,
    "executionStartTime": 1758652454139,
    "executionStopTime": 1758652454535,
    "isCommentPanelOpen": false,
    "jupyter": {
     "outputs_hidden": false
    },
    "language": "python",
    "originalKey": "0681b91e-b6dc-41fc-abc7-7f402dc7b646",
    "outputsInitialized": true,
    "requestMsgId": "15069457-855d-4289-b417-db99e210a9bd",
    "serverExecutionDuration": 0.90434215962887,
    "showInput": true
   },
   "outputs": [],
   "source": [
    "# sample usage\n",
    "from admarket.ads_copilot.common.training_simulation.model_performance_api import  ModelPerformanceAPI"
   ]
  },
  {
   "cell_type": "code",
   "execution_count": 139,
   "metadata": {
    "bentoAICellStatus": "none",
    "collapsed": false,
    "customInput": null,
    "executionStartTime": 1758652454311,
    "executionStopTime": 1758652454721,
    "isCommentPanelOpen": false,
    "jupyter": {
     "outputs_hidden": false
    },
    "language": "python",
    "originalKey": "d70ba3da-02ec-44df-aead-e565c0ed1c60",
    "outputsInitialized": true,
    "requestMsgId": "da5cf9c8-3d27-478b-9578-f4d9ab95f3e2",
    "serverExecutionDuration": 2.033831551671,
    "showInput": true
   },
   "outputs": [],
   "source": [
    "model = ModelPerformanceAPI()\n",
    "config = model.get_default_model_config_dict()\n",
    "config[\"GLOBAL_NOISE_SCALE\"] = 0.0\n",
    "model = ModelPerformanceAPI(config)\n",
    "\n",
    "results = {}\n",
    "\n",
    "qps_threshold = 3500\n",
    "\n",
    "def score(arch):\n",
    "    ne, qps, curve = model.train_model(training_days= 60, arch = arch,ignore_budget=True)\n",
    "    return  model.get_score(ne),ne, qps, curve"
   ]
  },
  {
   "cell_type": "markdown",
   "metadata": {
    "bentoAICellStatus": "none",
    "customInput": null,
    "isCommentPanelOpen": false,
    "language": "markdown",
    "originalKey": "aebfccb6-e7a1-46ea-b0ef-bd0d48dde8bf",
    "outputsInitialized": false,
    "showInput": false
   },
   "source": [
    "# tries 1-10"
   ]
  },
  {
   "cell_type": "code",
   "execution_count": 141,
   "metadata": {
    "bentoAICellStatus": "none",
    "collapsed": false,
    "customInput": null,
    "executionStartTime": 1758652454852,
    "executionStopTime": 1758652455239,
    "isCommentPanelOpen": false,
    "jupyter": {
     "outputs_hidden": false
    },
    "language": "python",
    "originalKey": "3b856c17-67dd-4f65-8b0a-13eb59c945ee",
    "output": {
     "id": "1698507634102864",
     "output_revision_id": "1491006381925833"
    },
    "outputsInitialized": true,
    "requestMsgId": "5bfc8459-a11a-4ece-8b33-d5121dd9cf04",
    "serverExecutionDuration": 4.4319927692413,
    "showInput": true
   },
   "outputs": [
    {
     "name": "stdout",
     "output_type": "stream",
     "text": [
      "score: 0.08386847719167602\n",
      "ne:  0.5128379012420594\n",
      "qps:  7315.266410115736\n"
     ]
    }
   ],
   "source": [
    "\n",
    "arch= [[256,256], [512, 512], [256,256], [64], [64]]\n",
    "out,ne, qps, curve = score(arch)\n",
    "print(\"score: \"+ str(out))\n",
    "print(\"ne: \",  str(ne))\n",
    "print(\"qps: \", str(qps))\n",
    "if qps < qps_threshold:\n",
    "    print(\"Invalid solution. QPS is too low\")\n",
    "#print(curve)\n",
    "results[str(arch)] = (out,qps,ne)\n"
   ]
  },
  {
   "cell_type": "code",
   "execution_count": 142,
   "metadata": {
    "bentoAICellStatus": "none",
    "collapsed": false,
    "customInput": null,
    "executionStartTime": 1758652455051,
    "executionStopTime": 1758652455423,
    "isCommentPanelOpen": false,
    "jupyter": {
     "outputs_hidden": false
    },
    "language": "python",
    "originalKey": "dec40a99-3cf0-4cf4-9e0f-f4a1be36626c",
    "output": {
     "id": "769398859270508",
     "output_revision_id": "1268206801718041"
    },
    "outputsInitialized": true,
    "requestMsgId": "692044dd-3dc2-4723-ba7f-85a70640a123",
    "serverExecutionDuration": 4.0336335077882,
    "showInput": true
   },
   "outputs": [
    {
     "name": "stdout",
     "output_type": "stream",
     "text": [
      "score: 0.1228854826462075\n",
      "ne:  0.4909967150238243\n",
      "qps:  3960.383383318784\n"
     ]
    }
   ],
   "source": [
    "#2\n",
    "\n",
    "arch = [[64,64],[64,64],[64,64]]\n",
    "out,ne, qps, curve = score(arch)\n",
    "print(\"score: \"+ str(out))\n",
    "print(\"ne: \",  str(ne))\n",
    "print(\"qps: \", str(qps))\n",
    "if qps < qps_threshold:\n",
    "    print(\"Invalid solution. QPS is too low\")\n",
    "#print(curve)\n",
    "results[str(arch)] = (out,qps,ne)"
   ]
  },
  {
   "cell_type": "code",
   "execution_count": 143,
   "metadata": {
    "bentoAICellStatus": "none",
    "collapsed": false,
    "customInput": null,
    "executionStartTime": 1758652455252,
    "executionStopTime": 1758652455629,
    "isCommentPanelOpen": false,
    "jupyter": {
     "outputs_hidden": false
    },
    "language": "python",
    "originalKey": "6d06e9d0-5853-4353-8d25-77d4a5b88d48",
    "output": {
     "id": "792383590105060",
     "output_revision_id": "848372491465586"
    },
    "outputsInitialized": true,
    "requestMsgId": "f93d4894-bc99-4876-b9a3-3fd5bc6538fd",
    "serverExecutionDuration": 4.6723252162337,
    "showInput": true
   },
   "outputs": [
    {
     "name": "stdout",
     "output_type": "stream",
     "text": [
      "score: 0.08856836286015055\n",
      "ne:  0.5102069695010474\n",
      "qps:  8064.016594189171\n"
     ]
    }
   ],
   "source": [
    "#3\n",
    "#arch=arch3\n",
    "arch = [[64,64],[64,64]]\n",
    "out,ne, qps, curve = score(arch)\n",
    "print(\"score: \"+ str(out))\n",
    "print(\"ne: \",  str(ne))\n",
    "print(\"qps: \", str(qps))\n",
    "if qps < qps_threshold:\n",
    "    print(\"Invalid solution. QPS is too low\")\n",
    "#print(curve)\n",
    "results[str(arch)] = (out,qps,ne)"
   ]
  },
  {
   "cell_type": "code",
   "execution_count": 144,
   "metadata": {
    "bentoAICellStatus": "none",
    "collapsed": false,
    "customInput": null,
    "executionStartTime": 1758652455476,
    "executionStopTime": 1758652455790,
    "isCommentPanelOpen": false,
    "jupyter": {
     "outputs_hidden": false
    },
    "language": "python",
    "originalKey": "2a848a8c-c6e8-4db1-80c2-35c09bda6069",
    "output": {
     "id": "1100192132326532",
     "output_revision_id": "814391994320288"
    },
    "outputsInitialized": true,
    "requestMsgId": "750af479-41f4-4b82-bafc-7af8d79e662c",
    "serverExecutionDuration": 3.9039384573698,
    "showInput": true
   },
   "outputs": [
    {
     "name": "stdout",
     "output_type": "stream",
     "text": [
      "score: 0.13258464792526867\n",
      "ne:  0.4855672549062793\n",
      "qps:  1658.452571985093\n",
      "Invalid solution. QPS is too low\n"
     ]
    }
   ],
   "source": [
    "#4\n",
    "arch = arch4\n",
    "#arch = [[64,64],[64,64]]\n",
    "out,ne, qps, curve = score(arch)\n",
    "print(\"score: \"+ str(out))\n",
    "print(\"ne: \",  str(ne))\n",
    "print(\"qps: \", str(qps))\n",
    "if qps < qps_threshold:\n",
    "    print(\"Invalid solution. QPS is too low\")\n",
    "#print(curve)\n",
    "results[str(arch)] = (out,qps,ne)"
   ]
  },
  {
   "cell_type": "code",
   "execution_count": 145,
   "metadata": {
    "bentoAICellStatus": "none",
    "collapsed": false,
    "customInput": null,
    "executionStartTime": 1758652455684,
    "executionStopTime": 1758652456104,
    "isCommentPanelOpen": false,
    "jupyter": {
     "outputs_hidden": false
    },
    "language": "python",
    "originalKey": "4d322fcd-a938-4a3b-8d81-b3f1acf646ac",
    "output": {
     "id": "1867703987460428",
     "output_revision_id": "806691011942472"
    },
    "outputsInitialized": true,
    "requestMsgId": "1ebf4a8a-4ab9-47c4-b3b7-94134c114e4f",
    "serverExecutionDuration": 4.0131919085979,
    "showInput": true
   },
   "outputs": [
    {
     "name": "stdout",
     "output_type": "stream",
     "text": [
      "score: 0.08228704539928322\n",
      "ne:  0.5137231651383197\n",
      "qps:  4575.2911677444645\n"
     ]
    }
   ],
   "source": [
    "#5\n",
    "arch=arch5\n",
    "#arch = [[64,64],[64,64]]\n",
    "out,ne, qps, curve = score(arch)\n",
    "print(\"score: \"+ str(out))\n",
    "print(\"ne: \",  str(ne))\n",
    "print(\"qps: \", str(qps))\n",
    "if qps < qps_threshold:\n",
    "    print(\"Invalid solution. QPS is too low\")\n",
    "#print(curve)\n",
    "results[str(arch)] = (out,qps,ne)"
   ]
  },
  {
   "cell_type": "code",
   "execution_count": 146,
   "metadata": {
    "bentoAICellStatus": "none",
    "collapsed": false,
    "customInput": null,
    "executionStartTime": 1758652455864,
    "executionStopTime": 1758652456232,
    "isCommentPanelOpen": false,
    "jupyter": {
     "outputs_hidden": false
    },
    "language": "python",
    "originalKey": "716c4cbd-66e1-4d44-b2f3-703ebcb94404",
    "output": {
     "id": "1355170909555645",
     "output_revision_id": "676013698853267"
    },
    "outputsInitialized": true,
    "requestMsgId": "b36ea48e-5af0-47ed-8061-d0079cf9e7b0",
    "serverExecutionDuration": 3.909676335752,
    "showInput": true
   },
   "outputs": [
    {
     "name": "stdout",
     "output_type": "stream",
     "text": [
      "score: 0.05511366532437536\n",
      "ne:  0.5289344517934829\n",
      "qps:  10896.214671303182\n"
     ]
    }
   ],
   "source": [
    "#6\n",
    "arch= arch6\n",
    "#arch = [[64,64],[64,64]]\n",
    "out,ne, qps, curve = score(arch)\n",
    "print(\"score: \"+ str(out))\n",
    "print(\"ne: \",  str(ne))\n",
    "print(\"qps: \", str(qps))\n",
    "if qps < qps_threshold:\n",
    "    print(\"Invalid solution. QPS is too low\")\n",
    "#print(curve)\n",
    "results[str(arch)] = (out,qps,ne)"
   ]
  },
  {
   "cell_type": "code",
   "execution_count": 147,
   "metadata": {
    "bentoAICellStatus": "none",
    "collapsed": false,
    "customInput": null,
    "executionStartTime": 1758652456054,
    "executionStopTime": 1758652456349,
    "isCommentPanelOpen": false,
    "jupyter": {
     "outputs_hidden": false
    },
    "language": "python",
    "originalKey": "c22b2ac7-98cf-4d79-aae3-3bf46a105232",
    "output": {
     "id": "801873302293877",
     "output_revision_id": "1866875174248302"
    },
    "outputsInitialized": true,
    "requestMsgId": "da58deb5-471f-4d5b-acfa-d505a88ba5dc",
    "serverExecutionDuration": 4.4356882572174,
    "showInput": true
   },
   "outputs": [
    {
     "name": "stdout",
     "output_type": "stream",
     "text": [
      "score: 0.09989844107460137\n",
      "ne:  0.5038645466198919\n",
      "qps:  6975.299709456269\n"
     ]
    }
   ],
   "source": [
    "#7\n",
    "arch = arch7\n",
    "#arch = [[64,64],[64,64]]\n",
    "out,ne, qps, curve = score(arch)\n",
    "print(\"score: \"+ str(out))\n",
    "print(\"ne: \",  str(ne))\n",
    "print(\"qps: \", str(qps))\n",
    "if qps < qps_threshold:\n",
    "    print(\"Invalid solution. QPS is too low\")\n",
    "#print(curve)\n",
    "results[str(arch)] = (out,qps,ne)"
   ]
  },
  {
   "cell_type": "code",
   "execution_count": 148,
   "metadata": {
    "bentoAICellStatus": "none",
    "collapsed": false,
    "customInput": null,
    "executionStartTime": 1758652456246,
    "executionStopTime": 1758652456632,
    "isCommentPanelOpen": false,
    "jupyter": {
     "outputs_hidden": false
    },
    "language": "python",
    "originalKey": "4797107b-4378-4cc1-a064-e2be87720d25",
    "output": {
     "id": "1811085979797103",
     "output_revision_id": "562486056922365"
    },
    "outputsInitialized": true,
    "requestMsgId": "6878b68c-3889-4f46-98d6-7df52491be8b",
    "serverExecutionDuration": 4.6213176101446,
    "showInput": true
   },
   "outputs": [
    {
     "name": "stdout",
     "output_type": "stream",
     "text": [
      "score: 0.0019983415787357146\n",
      "ne:  0.558667683840783\n",
      "qps:  19641.886187999313\n"
     ]
    }
   ],
   "source": [
    "#8\n",
    "arch = arch8\n",
    "#arch = [[64,64],[64,64]]\n",
    "out,ne, qps, curve = score(arch)\n",
    "print(\"score: \"+ str(out))\n",
    "print(\"ne: \",  str(ne))\n",
    "print(\"qps: \", str(qps))\n",
    "if qps < qps_threshold:\n",
    "    print(\"Invalid solution. QPS is too low\")\n",
    "#print(curve)\n",
    "results[str(arch)] = (out,qps,ne)"
   ]
  },
  {
   "cell_type": "code",
   "execution_count": 149,
   "metadata": {
    "bentoAICellStatus": "none",
    "collapsed": false,
    "customInput": null,
    "executionStartTime": 1758652456424,
    "executionStopTime": 1758652456831,
    "isCommentPanelOpen": false,
    "jupyter": {
     "outputs_hidden": false
    },
    "language": "python",
    "originalKey": "3a1d7f1c-e786-4594-a5ee-7891ddf61011",
    "output": {
     "id": "31441403598837696",
     "output_revision_id": "2222803891572975"
    },
    "outputsInitialized": true,
    "requestMsgId": "000aaa2a-70e9-4a9d-9db2-7d31d1ce4886",
    "serverExecutionDuration": 4.563600756228,
    "showInput": true
   },
   "outputs": [
    {
     "name": "stdout",
     "output_type": "stream",
     "text": [
      "score: 0.022268511287184038\n",
      "ne:  0.5473207199690072\n",
      "qps:  15793.2611122541\n"
     ]
    }
   ],
   "source": [
    "#9\n",
    "arch =arch9\n",
    "#arch = [[64,64],[64,64]]\n",
    "out,ne, qps, curve = score(arch)\n",
    "print(\"score: \"+ str(out))\n",
    "print(\"ne: \",  str(ne))\n",
    "print(\"qps: \", str(qps))\n",
    "if qps < qps_threshold:\n",
    "    print(\"Invalid solution. QPS is too low\")\n",
    "#print(curve)\n",
    "results[str(arch)] = (out,qps,ne)"
   ]
  },
  {
   "cell_type": "code",
   "execution_count": 150,
   "metadata": {
    "bentoAICellStatus": "none",
    "collapsed": false,
    "customInput": null,
    "executionStartTime": 1758652456647,
    "executionStopTime": 1758652456975,
    "isCommentPanelOpen": false,
    "jupyter": {
     "outputs_hidden": false
    },
    "language": "python",
    "originalKey": "bf05e985-4577-4cc5-919f-bc76cb73a352",
    "output": {
     "id": "777563555158261",
     "output_revision_id": "787438704027255"
    },
    "outputsInitialized": true,
    "requestMsgId": "c4ef146e-424f-4f69-9bbd-102fa66d6b8b",
    "serverExecutionDuration": 4.1829477995634,
    "showInput": true
   },
   "outputs": [
    {
     "name": "stdout",
     "output_type": "stream",
     "text": [
      "score: 0.12039427891542231\n",
      "ne:  0.492391256812918\n",
      "qps:  8222.613392973386\n"
     ]
    }
   ],
   "source": [
    "#10\n",
    "arch=arch10\n",
    "#arch = [[64,64],[64,64]]\n",
    "out,ne, qps, curve = score(arch)\n",
    "print(\"score: \"+ str(out))\n",
    "print(\"ne: \",  str(ne))\n",
    "print(\"qps: \", str(qps))\n",
    "if qps < qps_threshold:\n",
    "    print(\"Invalid solution. QPS is too low\")\n",
    "#print(curve)\n",
    "results[str(arch)] = (out,qps,ne)"
   ]
  },
  {
   "cell_type": "code",
   "execution_count": 151,
   "metadata": {
    "bentoAICellStatus": "none",
    "collapsed": false,
    "customInput": null,
    "executionStartTime": 1758652456909,
    "executionStopTime": 1758652457227,
    "isCommentPanelOpen": false,
    "jupyter": {
     "outputs_hidden": false
    },
    "language": "python",
    "originalKey": "8afe940c-4af2-4940-96d3-d087c0105de9",
    "output": {
     "id": "4367535073492316",
     "output_revision_id": "1102939371946549"
    },
    "outputsInitialized": true,
    "requestMsgId": "e4eeaff8-31dc-494e-a45e-cd9ca78580cb",
    "serverExecutionDuration": 8.8420221582055,
    "showInput": true
   },
   "outputs": [
    {
     "data": {
      "application/vnd.dataresource+json": {
       "data": [
        {
         "index": "[[2048, 1024, 512], [1024, 512], [512, 256], [256, 128], [128]]",
         "ne": 0.5128379012,
         "qps": 7315.2664101157,
         "score": 0.0838684772
        },
        {
         "index": "[[1024, 1024, 1024], [1024, 1024], [1024], [1024], [1024]]",
         "ne": 0.490996715,
         "qps": 3960.3833833188,
         "score": 0.1228854826
        },
        {
         "index": "[[2048, 1024, 512, 256, 128], [1024, 512, 256], [512, 256], [256, 128], [128]]",
         "ne": 0.5102069695,
         "qps": 8064.0165941892,
         "score": 0.0885683629
        },
        {
         "index": "[[2048], [2048], [2048], [2048], [2048]]",
         "ne": 0.4855672549,
         "qps": 1658.4525719851,
         "score": 0.1325846479
        },
        {
         "index": "[[256], [512, 256], [1024, 512, 256], [2048, 1024, 512, 256], [2048, 1024, 512, 256, 128]]",
         "ne": 0.5137231651,
         "qps": 4575.2911677445,
         "score": 0.0822870454
        },
        {
         "index": "[[512, 512], [1024, 1024], [512, 512], [128], [128]]",
         "ne": 0.5289344518,
         "qps": 10896.214671303,
         "score": 0.0551136653
        },
        {
         "index": "[[2048, 1024], [1024, 512, 256], [512, 256], [256], [128]]",
         "ne": 0.5038645466,
         "qps": 6975.2997094563,
         "score": 0.0998984411
        },
        {
         "index": "[[64], [128], [256], [512], [1024]]",
         "ne": 0.5586676838,
         "qps": 19641.886187999,
         "score": 0.0019983416
        },
        {
         "index": "[[2048, 64], [1024, 128], [512, 256], [256, 512], [128, 1024]]",
         "ne": 0.54732072,
         "qps": 15793.261112254,
         "score": 0.0222685113
        },
        {
         "index": "[[256, 256, 256, 256, 256], [512, 512, 512, 512, 512], [1024, 1024, 1024, 1024, 1024], [128, 128, 128, 128, 128], [64, 64, 64, 64, 64]]",
         "ne": 0.4923912568,
         "qps": 8222.6133929734,
         "score": 0.1203942789
        }
       ],
       "schema": {
        "fields": [
         {
          "name": "index",
          "type": "string"
         },
         {
          "name": "score",
          "type": "number"
         },
         {
          "name": "qps",
          "type": "number"
         },
         {
          "name": "ne",
          "type": "number"
         }
        ],
        "pandas_version": "1.4.0",
        "primaryKey": [
         "index"
        ]
       }
      },
      "text/html": [
       "<div>\n",
       "<style scoped>\n",
       "    .dataframe tbody tr th:only-of-type {\n",
       "        vertical-align: middle;\n",
       "    }\n",
       "\n",
       "    .dataframe tbody tr th {\n",
       "        vertical-align: top;\n",
       "    }\n",
       "\n",
       "    .dataframe thead th {\n",
       "        text-align: right;\n",
       "    }\n",
       "</style>\n",
       "<table border=\"1\" class=\"dataframe\">\n",
       "  <thead>\n",
       "    <tr style=\"text-align: right;\">\n",
       "      <th></th>\n",
       "      <th>score</th>\n",
       "      <th>qps</th>\n",
       "      <th>ne</th>\n",
       "    </tr>\n",
       "  </thead>\n",
       "  <tbody>\n",
       "    <tr>\n",
       "      <th>[[2048, 1024, 512], [1024, 512], [512, 256], [256, 128], [128]]</th>\n",
       "      <td>0.083868</td>\n",
       "      <td>7315.266410</td>\n",
       "      <td>0.512838</td>\n",
       "    </tr>\n",
       "    <tr>\n",
       "      <th>[[1024, 1024, 1024], [1024, 1024], [1024], [1024], [1024]]</th>\n",
       "      <td>0.122885</td>\n",
       "      <td>3960.383383</td>\n",
       "      <td>0.490997</td>\n",
       "    </tr>\n",
       "    <tr>\n",
       "      <th>[[2048, 1024, 512, 256, 128], [1024, 512, 256], [512, 256], [256, 128], [128]]</th>\n",
       "      <td>0.088568</td>\n",
       "      <td>8064.016594</td>\n",
       "      <td>0.510207</td>\n",
       "    </tr>\n",
       "    <tr>\n",
       "      <th>[[2048], [2048], [2048], [2048], [2048]]</th>\n",
       "      <td>0.132585</td>\n",
       "      <td>1658.452572</td>\n",
       "      <td>0.485567</td>\n",
       "    </tr>\n",
       "    <tr>\n",
       "      <th>[[256], [512, 256], [1024, 512, 256], [2048, 1024, 512, 256], [2048, 1024, 512, 256, 128]]</th>\n",
       "      <td>0.082287</td>\n",
       "      <td>4575.291168</td>\n",
       "      <td>0.513723</td>\n",
       "    </tr>\n",
       "    <tr>\n",
       "      <th>[[512, 512], [1024, 1024], [512, 512], [128], [128]]</th>\n",
       "      <td>0.055114</td>\n",
       "      <td>10896.214671</td>\n",
       "      <td>0.528934</td>\n",
       "    </tr>\n",
       "    <tr>\n",
       "      <th>[[2048, 1024], [1024, 512, 256], [512, 256], [256], [128]]</th>\n",
       "      <td>0.099898</td>\n",
       "      <td>6975.299709</td>\n",
       "      <td>0.503865</td>\n",
       "    </tr>\n",
       "    <tr>\n",
       "      <th>[[64], [128], [256], [512], [1024]]</th>\n",
       "      <td>0.001998</td>\n",
       "      <td>19641.886188</td>\n",
       "      <td>0.558668</td>\n",
       "    </tr>\n",
       "    <tr>\n",
       "      <th>[[2048, 64], [1024, 128], [512, 256], [256, 512], [128, 1024]]</th>\n",
       "      <td>0.022269</td>\n",
       "      <td>15793.261112</td>\n",
       "      <td>0.547321</td>\n",
       "    </tr>\n",
       "    <tr>\n",
       "      <th>[[256, 256, 256, 256, 256], [512, 512, 512, 512, 512], [1024, 1024, 1024, 1024, 1024], [128, 128, 128, 128, 128], [64, 64, 64, 64, 64]]</th>\n",
       "      <td>0.120394</td>\n",
       "      <td>8222.613393</td>\n",
       "      <td>0.492391</td>\n",
       "    </tr>\n",
       "  </tbody>\n",
       "</table>\n",
       "</div>"
      ],
      "text/plain": [
       "                                                       score  ...        ne\n",
       "[[2048, 1024, 512], [1024, 512], [512, 256], [2...  0.083868  ...  0.512838\n",
       "[[1024, 1024, 1024], [1024, 1024], [1024], [102...  0.122885  ...  0.490997\n",
       "[[2048, 1024, 512, 256, 128], [1024, 512, 256],...  0.088568  ...  0.510207\n",
       "[[2048], [2048], [2048], [2048], [2048]]            0.132585  ...  0.485567\n",
       "[[256], [512, 256], [1024, 512, 256], [2048, 10...  0.082287  ...  0.513723\n",
       "[[512, 512], [1024, 1024], [512, 512], [128], [...  0.055114  ...  0.528934\n",
       "[[2048, 1024], [1024, 512, 256], [512, 256], [2...  0.099898  ...  0.503865\n",
       "[[64], [128], [256], [512], [1024]]                 0.001998  ...  0.558668\n",
       "[[2048, 64], [1024, 128], [512, 256], [256, 512...  0.022269  ...  0.547321\n",
       "[[256, 256, 256, 256, 256], [512, 512, 512, 512...  0.120394  ...  0.492391\n",
       "\n",
       "[10 rows x 3 columns]"
      ]
     },
     "execution_count": 151,
     "metadata": {},
     "output_type": "execute_result"
    }
   ],
   "source": [
    "import pandas as pd\n",
    "pd.DataFrame.from_dict(results, orient='index',columns=['score','qps','ne'])"
   ]
  },
  {
   "cell_type": "code",
   "execution_count": 119,
   "metadata": {
    "bentoAICellStatus": "none",
    "collapsed": false,
    "customInput": null,
    "executionStartTime": 1758652243102,
    "executionStopTime": 1758652243359,
    "isCommentPanelOpen": false,
    "jupyter": {
     "outputs_hidden": false
    },
    "language": "python",
    "originalKey": "95421e0d-e331-48df-885d-e0e2b6527775",
    "output": {
     "id": "1420683155699394",
     "output_revision_id": "779091538262872"
    },
    "outputsInitialized": false,
    "requestMsgId": "4f5b15d4-e3c3-476d-8774-f55d16e47ab7",
    "serverExecutionDuration": 31.681288965046,
    "showInput": true
   },
   "outputs": [
    {
     "ename": "ValueError",
     "evalue": "Length mismatch: Expected axis has 3 elements, new values have 2 elements",
     "output_type": "error",
     "traceback": [
      "\u001b[0;31m---------------------------------------------------------------------------\u001b[0m",
      "\u001b[0;31mValueError\u001b[0m                                Traceback (most recent call last)",
      "Cell \u001b[0;32mIn[119], line 2\u001b[0m\n\u001b[1;32m      1\u001b[0m result_df \u001b[38;5;241m=\u001b[39m pd\u001b[38;5;241m.\u001b[39mDataFrame\u001b[38;5;241m.\u001b[39mfrom_dict(results, orient\u001b[38;5;241m=\u001b[39m\u001b[38;5;124m'\u001b[39m\u001b[38;5;124mindex\u001b[39m\u001b[38;5;124m'\u001b[39m)\n\u001b[0;32m----> 2\u001b[0m \u001b[43mresult_df\u001b[49m\u001b[38;5;241;43m.\u001b[39;49m\u001b[43mcolumns\u001b[49m \u001b[38;5;241m=\u001b[39m [\u001b[38;5;124m'\u001b[39m\u001b[38;5;124mne\u001b[39m\u001b[38;5;124m'\u001b[39m, \u001b[38;5;124m'\u001b[39m\u001b[38;5;124mqps\u001b[39m\u001b[38;5;124m'\u001b[39m]\n",
      "File \u001b[0;32m~/.bento/kernels/bento_kernel_aria/163/bento_kernel_aria_binary-inplace#link-tree/pandas/core/generic.py:6002\u001b[0m, in \u001b[0;36mNDFrame.__setattr__\u001b[0;34m(self, name, value)\u001b[0m\n\u001b[1;32m   6000\u001b[0m \u001b[38;5;28;01mtry\u001b[39;00m:\n\u001b[1;32m   6001\u001b[0m     \u001b[38;5;28mobject\u001b[39m\u001b[38;5;241m.\u001b[39m\u001b[38;5;21m__getattribute__\u001b[39m(\u001b[38;5;28mself\u001b[39m, name)\n\u001b[0;32m-> 6002\u001b[0m     \u001b[38;5;28;01mreturn\u001b[39;00m \u001b[38;5;28;43mobject\u001b[39;49m\u001b[38;5;241;43m.\u001b[39;49m\u001b[38;5;21;43m__setattr__\u001b[39;49m\u001b[43m(\u001b[49m\u001b[38;5;28;43mself\u001b[39;49m\u001b[43m,\u001b[49m\u001b[43m \u001b[49m\u001b[43mname\u001b[49m\u001b[43m,\u001b[49m\u001b[43m \u001b[49m\u001b[43mvalue\u001b[49m\u001b[43m)\u001b[49m\n\u001b[1;32m   6003\u001b[0m \u001b[38;5;28;01mexcept\u001b[39;00m \u001b[38;5;167;01mAttributeError\u001b[39;00m:\n\u001b[1;32m   6004\u001b[0m     \u001b[38;5;28;01mpass\u001b[39;00m\n",
      "File \u001b[0;32m~/.bento/kernels/bento_kernel_aria/163/bento_kernel_aria_binary-inplace#link-tree/pandas/_libs/properties.pyx:69\u001b[0m, in \u001b[0;36mpandas._libs.properties.AxisProperty.__set__\u001b[0;34m()\u001b[0m\n",
      "File \u001b[0;32m~/.bento/kernels/bento_kernel_aria/163/bento_kernel_aria_binary-inplace#link-tree/pandas/core/generic.py:730\u001b[0m, in \u001b[0;36mNDFrame._set_axis\u001b[0;34m(self, axis, labels)\u001b[0m\n\u001b[1;32m    725\u001b[0m \u001b[38;5;250m\u001b[39m\u001b[38;5;124;03m\"\"\"\u001b[39;00m\n\u001b[1;32m    726\u001b[0m \u001b[38;5;124;03mThis is called from the cython code when we set the `index` attribute\u001b[39;00m\n\u001b[1;32m    727\u001b[0m \u001b[38;5;124;03mdirectly, e.g. `series.index = [1, 2, 3]`.\u001b[39;00m\n\u001b[1;32m    728\u001b[0m \u001b[38;5;124;03m\"\"\"\u001b[39;00m\n\u001b[1;32m    729\u001b[0m labels \u001b[38;5;241m=\u001b[39m ensure_index(labels)\n\u001b[0;32m--> 730\u001b[0m \u001b[38;5;28;43mself\u001b[39;49m\u001b[38;5;241;43m.\u001b[39;49m\u001b[43m_mgr\u001b[49m\u001b[38;5;241;43m.\u001b[39;49m\u001b[43mset_axis\u001b[49m\u001b[43m(\u001b[49m\u001b[43maxis\u001b[49m\u001b[43m,\u001b[49m\u001b[43m \u001b[49m\u001b[43mlabels\u001b[49m\u001b[43m)\u001b[49m\n\u001b[1;32m    731\u001b[0m \u001b[38;5;28mself\u001b[39m\u001b[38;5;241m.\u001b[39m_clear_item_cache()\n",
      "File \u001b[0;32m~/.bento/kernels/bento_kernel_aria/163/bento_kernel_aria_binary-inplace#link-tree/pandas/core/internals/managers.py:225\u001b[0m, in \u001b[0;36mBaseBlockManager.set_axis\u001b[0;34m(self, axis, new_labels)\u001b[0m\n\u001b[1;32m    223\u001b[0m \u001b[38;5;28;01mdef\u001b[39;00m\u001b[38;5;250m \u001b[39m\u001b[38;5;21mset_axis\u001b[39m(\u001b[38;5;28mself\u001b[39m, axis: AxisInt, new_labels: Index) \u001b[38;5;241m-\u001b[39m\u001b[38;5;241m>\u001b[39m \u001b[38;5;28;01mNone\u001b[39;00m:\n\u001b[1;32m    224\u001b[0m     \u001b[38;5;66;03m# Caller is responsible for ensuring we have an Index object.\u001b[39;00m\n\u001b[0;32m--> 225\u001b[0m     \u001b[38;5;28;43mself\u001b[39;49m\u001b[38;5;241;43m.\u001b[39;49m\u001b[43m_validate_set_axis\u001b[49m\u001b[43m(\u001b[49m\u001b[43maxis\u001b[49m\u001b[43m,\u001b[49m\u001b[43m \u001b[49m\u001b[43mnew_labels\u001b[49m\u001b[43m)\u001b[49m\n\u001b[1;32m    226\u001b[0m     \u001b[38;5;28mself\u001b[39m\u001b[38;5;241m.\u001b[39maxes[axis] \u001b[38;5;241m=\u001b[39m new_labels\n",
      "File \u001b[0;32m~/.bento/kernels/bento_kernel_aria/163/bento_kernel_aria_binary-inplace#link-tree/pandas/core/internals/base.py:70\u001b[0m, in \u001b[0;36mDataManager._validate_set_axis\u001b[0;34m(self, axis, new_labels)\u001b[0m\n\u001b[1;32m     67\u001b[0m     \u001b[38;5;28;01mpass\u001b[39;00m\n\u001b[1;32m     69\u001b[0m \u001b[38;5;28;01melif\u001b[39;00m new_len \u001b[38;5;241m!=\u001b[39m old_len:\n\u001b[0;32m---> 70\u001b[0m     \u001b[38;5;28;01mraise\u001b[39;00m \u001b[38;5;167;01mValueError\u001b[39;00m(\n\u001b[1;32m     71\u001b[0m         \u001b[38;5;124mf\u001b[39m\u001b[38;5;124m\"\u001b[39m\u001b[38;5;124mLength mismatch: Expected axis has \u001b[39m\u001b[38;5;132;01m{\u001b[39;00mold_len\u001b[38;5;132;01m}\u001b[39;00m\u001b[38;5;124m elements, new \u001b[39m\u001b[38;5;124m\"\u001b[39m\n\u001b[1;32m     72\u001b[0m         \u001b[38;5;124mf\u001b[39m\u001b[38;5;124m\"\u001b[39m\u001b[38;5;124mvalues have \u001b[39m\u001b[38;5;132;01m{\u001b[39;00mnew_len\u001b[38;5;132;01m}\u001b[39;00m\u001b[38;5;124m elements\u001b[39m\u001b[38;5;124m\"\u001b[39m\n\u001b[1;32m     73\u001b[0m     )\n",
      "\u001b[0;31mValueError\u001b[0m: Length mismatch: Expected axis has 3 elements, new values have 2 elements"
     ]
    }
   ],
   "source": [
    "#result_df = pd.DataFrame.from_dict(results, orient='index')\n",
    "#result_df.columns = ['ne', 'qps']\n"
   ]
  },
  {
   "cell_type": "code",
   "execution_count": 85,
   "metadata": {
    "bentoAICellStatus": "none",
    "collapsed": false,
    "customInput": null,
    "executionStartTime": 1758567030261,
    "executionStopTime": 1758567030784,
    "isCommentPanelOpen": false,
    "jupyter": {
     "outputs_hidden": false
    },
    "language": "python",
    "originalKey": "bbc77465-7052-4300-b821-9fcb9e0d1e69",
    "output": {
     "id": "3807431982734165",
     "output_revision_id": "823389866801089"
    },
    "outputsInitialized": true,
    "requestMsgId": "bbc77465-7052-4300-b821-9fcb9e0d1e69",
    "serverExecutionDuration": 147.30661106296,
    "showInput": true
   },
   "outputs": [
    {
     "data": {
      "text/plain": [
       "[Text(0, 0, '[[256, 256], [512, 512], [256, 256], [64], [64]]'),\n",
       " Text(1, 0, '[[64, 64], [64, 64], [64, 64]]'),\n",
       " Text(2, 0, '[[64, 64], [64, 64]]')]"
      ]
     },
     "execution_count": 85,
     "metadata": {},
     "output_type": "execute_result"
    },
    {
     "data": {
      "image/png": "[encoded data removed]",
      "text/plain": [
       "<Figure size 800x400 with 1 Axes>"
      ]
     },
     "metadata": {},
     "output_type": "display_data"
    }
   ],
   "source": [
    "import pandas as pd\n",
    "import matplotlib.pyplot as plt\n",
    "#result_df = pd.DataFrame.from_dict(results, orient='index')\n",
    "plot_df = result_df[result_df.qps>3500]['ne']\n",
    "ax = plot_df.plot(figsize=(8, 4))\n",
    "# Set tick marks for all data points\n",
    "ax.set_xticks(range(len(plot_df)))  # 0 to 9 for 10 points\n",
    "ax.set_xticklabels(plot_df.index, rotation=90)  # Use your index as labels, rotated 90 degrees\n",
    "\n"
   ]
  },
  {
   "cell_type": "code",
   "execution_count": 87,
   "metadata": {
    "bentoAICellStatus": "none",
    "collapsed": false,
    "customInput": null,
    "executionStartTime": 1758567128733,
    "executionStopTime": 1758567129439,
    "isCommentPanelOpen": false,
    "jupyter": {
     "outputs_hidden": false
    },
    "language": "python",
    "originalKey": "4c91844b-5891-4ec0-9fe7-4402d603726b",
    "output": {
     "id": "763651506508429",
     "output_revision_id": "720423937689810"
    },
    "outputsInitialized": true,
    "requestMsgId": "4c91844b-5891-4ec0-9fe7-4402d603726b",
    "serverExecutionDuration": 1.2547189835459,
    "showInput": true
   },
   "outputs": [
    {
     "name": "stdout",
     "output_type": "stream",
     "text": [
      "1\n",
      "2\n",
      "3\n",
      "4\n"
     ]
    }
   ],
   "source": []
  },
  {
   "cell_type": "code",
   "execution_count": null,
   "metadata": {
    "bentoAICellStatus": "none",
    "customInput": null,
    "isCommentPanelOpen": false,
    "language": "python",
    "originalKey": "878dc5e5-2320-4aef-b1ee-a52bf1cd3855",
    "outputsInitialized": false,
    "showInput": true
   },
   "outputs": [],
   "source": []
  }
 ],
 "metadata": {
  "bento_stylesheets": {
   "bento/extensions/flow/main.css": true,
   "bento/extensions/kernel_selector/main.css": true,
   "bento/extensions/kernel_ui/main.css": true,
   "bento/extensions/new_kernel/main.css": true,
   "bento/extensions/system_usage/main.css": true,
   "bento/extensions/theme/main.css": true
  },
  "kernelspec": {
   "display_name": "Python 3 (ipykernel)",
   "language": "python",
   "name": "python3"
  },
  "language_info": {
   "codemirror_mode": {
    "name": "ipython",
    "version": 3
   },
   "file_extension": ".py",
   "mimetype": "text/x-python",
   "name": "python",
   "nbconvert_exporter": "python",
   "pygments_lexer": "ipython3",
   "version": "3.10.10"
  },
  "last_base_url": "https://bento.edge.x2p.facebook.net/",
  "last_kernel_id": "0edbb2ec-a312-49f3-ba0f-5e0e257d129e",
  "last_msg_id": "0c8a452e-c1c709a8e7dc657dedf45652_1308",
  "last_server_session_id": "ab94ac8a-5340-4a08-aad6-38f202a1404a"
 },
 "nbformat": 4,
 "nbformat_minor": 4
}
