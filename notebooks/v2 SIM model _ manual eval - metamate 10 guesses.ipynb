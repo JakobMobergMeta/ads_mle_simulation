{
 "cells": [
  {
   "cell_type": "code",
   "execution_count": 1,
   "metadata": {
    "bentoAICellStatus": "none",
    "collapsed": false,
    "executionStartTime": 1758303823852,
    "executionStopTime": 1758303829360,
    "isCommentPanelOpen": false,
    "jupyter": {
     "outputs_hidden": false
    },
    "language": "python",
    "originalKey": "6700c225-0719-4b63-9d19-6aa69c122d50",
    "output": {
     "id": "4090032997936920",
     "output_revision_id": "1391743762951139"
    },
    "outputsInitialized": true,
    "requestMsgId": "5abb13f5-0edc-4913-b8fe-76fae0d1a11e",
    "serverExecutionDuration": 5173.1244623661
   },
   "outputs": [
    {
     "name": "stderr",
     "output_type": "stream",
     "text": [
      "I0919 104344.239 local_changes_provider.py:32] Initializing local changes support for repo_base_path='/data/sandcastle/boxes/fbsource'\n",
      "W0919 104349.053 local_changes_magic.py:256] \u001b[38;5;200m\n",
      "___________ Recommended Action ___________ \n",
      "Your current repo doesn't match the kernel commit.\n",
      "While autoreload often functions as expected, ensuring consistency is key,\n",
      "especially when your local repo significantly diverges from the kernel commit or you're tackling production workflows.\n",
      "Consider one of the following options:\n",
      "\n",
      "1) From commandline, run: hg checkout 3b72cdb1977841e5055891190b52444fea2565e8 to develop without building a local kernel.\n",
      "2) To develop in your current repo, first build the local kernel(e.g, bento kernel build bento/kernels:bento_kernel_~). Afterwards, iterate development using %local-changes.\n",
      "___________________________________________ \n",
      "\u001b[0m\n",
      "W0919 104349.054 local_changes_magic.py:428] \u001b[38;5;200m\n",
      "___________________ FYI __________________ \n",
      "A debugger is off. If you aim to debug, activate `%local-changes-debug` for advanced breakpoint capabilities in VS Code.\n",
      "With the debugger, you can utilize breakpoints in VS Code.\n",
      "Utilizing Bento in VS Code ensures a seamless debugging experience.\n",
      "For further details, please refer to this Wiki(https://fburl.com/local-changes-debug).\n",
      "\n",
      "Additionally, you can also debug cells in a notebook using the 'Debug Cell' feature with just one click.\n",
      "For more information on how to debug a cell, please see this Wiki (https://fburl.com/debug-in-cell).\n",
      "___________________________________________ \n",
      "\u001b[0m\n",
      "W0919 104349.054 local_changes_magic.py:446] enabling autoreload (level 2)\n",
      "I0919 104349.294 magics.py:89] %autoreload was called with parameter_s='2 aggressive_experimental'\n"
     ]
    }
   ],
   "source": [
    "%local-changes"
   ]
  },
  {
   "cell_type": "markdown",
   "metadata": {
    "bentoAICellStatus": "none",
    "customInput": null,
    "isCommentPanelOpen": false,
    "language": "markdown",
    "originalKey": "ecca23a7-4830-4592-a4c8-fdb5ce8662d0",
    "outputsInitialized": false,
    "showInput": false
   },
   "source": [
    "### Task: Find the best model for 60 days\n",
    "You got 10 tries to find the best architecture\n",
    "\n",
    "\n",
    "#### input format\n",
    "\n",
    "arch: [[]] \n",
    "\n",
    "#### input ranges\n",
    "layer sizes: 64 - 2048\n",
    "\n",
    "layers: 1-5\n",
    "\n",
    "sub_arches 1-5 \n",
    "\n",
    "training_days: 60\n",
    "\n",
    "example:\n",
    "arch =[[64, 64]]\n",
    "1 sub_arch\n",
    "2 layers wtih 64 layersize each\n",
    "\n",
    "\n",
    "#### Evaluation:\n",
    "\n",
    "qps need to be > 3500\n",
    "score is calculated by % improvement from BASELINE_NE\n",
    "\n",
    "    #def get_score(self, ne: float) -> float:\n",
    "    #    baseline_ne = self.model_config_dict[\"BASELINE_NE\"]\n",
    "    #    return (baseline_ne - ne) / baseline_ne\n",
    "\n",
    "\n",
    "\n",
    "# sample code\n",
    "\n",
    "```python\n",
    "from admarket.ads_copilot.common.training_simulation.model_performance_api import  ModelPerformanceAPI\n",
    "\n",
    "model = ModelPerformanceAPI()\n",
    "config = model.get_default_model_config_dict()\n",
    "config[\"GLOBAL_NOISE_SCALE\"] = 0.0\n",
    "model = ModelPerformanceAPI(config)\n",
    "ne, qps, curve = model.train_model(training_days= 60, arch=[[64,64]],ignore_budget=True)\n",
    "model.get_score(ne)\n",
    "```\n",
    "we will go back and forth, \n",
    "\n",
    "you will give me an arch suggested\n",
    "\n",
    "i will give you ne and qps for 60days"
   ]
  },
  {
   "cell_type": "code",
   "execution_count": 18,
   "metadata": {
    "bentoAICellStatus": "none",
    "collapsed": false,
    "customInput": null,
    "executionStartTime": 1758305915658,
    "executionStopTime": 1758305916006,
    "isCommentPanelOpen": false,
    "jupyter": {
     "outputs_hidden": false
    },
    "language": "python",
    "originalKey": "9f2483f3-50fd-4c6d-bc75-f1d2983d730c",
    "outputsInitialized": true,
    "requestMsgId": "b04e7aee-f743-4d3d-80db-d06396738f10",
    "serverExecutionDuration": 1.1154962703586,
    "showInput": true
   },
   "outputs": [],
   "source": [
    "# sample usage\n",
    "from admarket.ads_copilot.common.training_simulation.model_performance_api import  ModelPerformanceAPI"
   ]
  },
  {
   "cell_type": "code",
   "execution_count": 19,
   "metadata": {
    "bentoAICellStatus": "none",
    "collapsed": false,
    "customInput": null,
    "executionStartTime": 1758305915869,
    "executionStopTime": 1758305916230,
    "isCommentPanelOpen": false,
    "jupyter": {
     "outputs_hidden": false
    },
    "language": "python",
    "originalKey": "d83fb104-3d2e-48d7-9e3d-30be07379bea",
    "outputsInitialized": true,
    "requestMsgId": "c27eafdb-2212-45f0-9aff-88f95889e100",
    "serverExecutionDuration": 1.7226450145245,
    "showInput": true
   },
   "outputs": [],
   "source": [
    "model = ModelPerformanceAPI()\n",
    "config = model.get_default_model_config_dict()\n",
    "config[\"GLOBAL_NOISE_SCALE\"] = 0.0\n",
    "model = ModelPerformanceAPI(config)\n",
    "results = {}\n",
    "\n",
    "def score(arch):\n",
    "    ne, qps, curve = model.train_model(training_days= 60, arch = arch,ignore_budget=True)\n",
    "    return  model.get_score(ne),ne, qps, curve"
   ]
  },
  {
   "cell_type": "markdown",
   "metadata": {
    "bentoAICellStatus": "none",
    "customInput": null,
    "isCommentPanelOpen": false,
    "language": "markdown",
    "originalKey": "aebfccb6-e7a1-46ea-b0ef-bd0d48dde8bf",
    "outputsInitialized": false,
    "showInput": false
   },
   "source": [
    "# tries 1-10"
   ]
  },
  {
   "cell_type": "code",
   "execution_count": 20,
   "metadata": {
    "bentoAICellStatus": "none",
    "collapsed": false,
    "customInput": null,
    "executionStartTime": 1758305916209,
    "executionStopTime": 1758305916650,
    "isCommentPanelOpen": false,
    "jupyter": {
     "outputs_hidden": false
    },
    "language": "python",
    "originalKey": "3ff20ad1-f34f-4c9b-b80a-6c2de3f28398",
    "output": {
     "id": "2159890267756516",
     "output_revision_id": "9284114655046510"
    },
    "outputsInitialized": true,
    "requestMsgId": "084a078f-a966-4d86-a9b8-21c549af3c3b",
    "serverExecutionDuration": 3.4749154001474,
    "showInput": true
   },
   "outputs": [
    {
     "name": "stdout",
     "output_type": "stream",
     "text": [
      "-0.01749336020889899\n",
      "0.5695094256240317\n",
      "32214.75966610524\n"
     ]
    }
   ],
   "source": [
    "#1\n",
    "\n",
    "arch = [[512, 512]]\n",
    "out,ne, qps, curve = score(arch)\n",
    "print(out)\n",
    "print(ne)\n",
    "print(qps)\n",
    "#print(curve)\n",
    "results[str(arch)] = (out,qps)\n"
   ]
  },
  {
   "cell_type": "code",
   "execution_count": 21,
   "metadata": {
    "bentoAICellStatus": "none",
    "collapsed": false,
    "customInput": null,
    "executionStartTime": 1758305916383,
    "executionStopTime": 1758305916815,
    "isCommentPanelOpen": false,
    "jupyter": {
     "outputs_hidden": false
    },
    "language": "python",
    "originalKey": "f0ec3290-8895-4c87-ba92-f4118059f763",
    "output": {
     "id": "24613229054972378",
     "output_revision_id": "1803321920333242"
    },
    "outputsInitialized": true,
    "requestMsgId": "7ebdb854-1dc2-4f13-82cc-04d63fc1baff",
    "serverExecutionDuration": 3.0915606766939,
    "showInput": true
   },
   "outputs": [
    {
     "name": "stdout",
     "output_type": "stream",
     "text": [
      "0.012585664758148214\n",
      "0.552673651650237\n",
      "15146.38120681553\n"
     ]
    }
   ],
   "source": [
    "#2\n",
    "arch = [[1024, 1024, 512]]\n",
    "out,ne, qps, curve = score(arch)\n",
    "print(out)\n",
    "print(ne)\n",
    "print(qps)\n",
    "#print(curve)\n",
    "results[str(arch)] = (out,qps)\n"
   ]
  },
  {
   "cell_type": "code",
   "execution_count": 22,
   "metadata": {
    "bentoAICellStatus": "none",
    "collapsed": false,
    "customInput": null,
    "executionStartTime": 1758305916549,
    "executionStopTime": 1758305916922,
    "isCommentPanelOpen": false,
    "jupyter": {
     "outputs_hidden": false
    },
    "language": "python",
    "originalKey": "c56e544d-e20d-4a90-8636-1211fcfdbf6c",
    "output": {
     "id": "1099467915701707",
     "output_revision_id": "2526578727723707"
    },
    "outputsInitialized": true,
    "requestMsgId": "8ef803ed-15c7-4c72-9832-a6f2151a0a34",
    "serverExecutionDuration": 3.8229487836361,
    "showInput": true
   },
   "outputs": [
    {
     "name": "stdout",
     "output_type": "stream",
     "text": [
      "0.03159529800877088\n",
      "0.5420336163072418\n",
      "12810.657273064313\n"
     ]
    }
   ],
   "source": [
    "#3\n",
    "arch = [[1024, 1024], [512, 512]]\n",
    "out,ne, qps, curve = score(arch)\n",
    "print(out)\n",
    "print(ne)\n",
    "print(qps)\n",
    "#print(curve)\n",
    "results[str(arch)] = (out,qps)\n"
   ]
  },
  {
   "cell_type": "code",
   "execution_count": 23,
   "metadata": {
    "bentoAICellStatus": "none",
    "collapsed": false,
    "customInput": null,
    "executionStartTime": 1758305916716,
    "executionStopTime": 1758305917149,
    "isCommentPanelOpen": false,
    "jupyter": {
     "outputs_hidden": false
    },
    "language": "python",
    "originalKey": "d1eac949-88fa-4883-ac11-e7261fbb4e70",
    "output": {
     "id": "4154814318110104",
     "output_revision_id": "1482332039632127"
    },
    "outputsInitialized": true,
    "requestMsgId": "53be3e47-c7f1-4eca-aa37-224ac325d5ea",
    "serverExecutionDuration": 3.785421140492,
    "showInput": true
   },
   "outputs": [
    {
     "name": "stdout",
     "output_type": "stream",
     "text": [
      "0.04838395837394564\n",
      "0.532636699633894\n",
      "11874.902299599982\n"
     ]
    }
   ],
   "source": [
    "#4\n",
    "arch = [[1024, 1024, 512], [512, 512, 256], [256, 256]]\n",
    "out,ne, qps, curve = score(arch)\n",
    "print(out)\n",
    "print(ne)\n",
    "print(qps)\n",
    "#print(curve)\n",
    "results[str(arch)] = (out,qps)"
   ]
  },
  {
   "cell_type": "code",
   "execution_count": 24,
   "metadata": {
    "bentoAICellStatus": "none",
    "collapsed": false,
    "customInput": null,
    "executionStartTime": 1758305916890,
    "executionStopTime": 1758305917307,
    "isCommentPanelOpen": false,
    "jupyter": {
     "outputs_hidden": false
    },
    "language": "python",
    "originalKey": "b41311ad-2ebd-4011-b386-1799c47e9f2c",
    "output": {
     "id": "1696020471091168",
     "output_revision_id": "1166747628209868"
    },
    "outputsInitialized": true,
    "requestMsgId": "4c37f1d6-74f1-4ee7-a3c8-f9eed3059520",
    "serverExecutionDuration": 3.9985766634345,
    "showInput": true
   },
   "outputs": [
    {
     "name": "stdout",
     "output_type": "stream",
     "text": [
      "0.08937636212602837\n",
      "0.5096925102870427\n",
      "7398.4538407999125\n"
     ]
    }
   ],
   "source": [
    "#5\n",
    "arch = [[2048, 1024, 512], [1024, 512, 256], [512, 256], [256, 128]]\n",
    "out,ne, qps, curve = score(arch)\n",
    "print(out)\n",
    "print(ne)\n",
    "print(qps)\n",
    "#print(curve)\n",
    "results[str(arch)] = (out,qps)"
   ]
  },
  {
   "cell_type": "code",
   "execution_count": 25,
   "metadata": {
    "bentoAICellStatus": "none",
    "collapsed": false,
    "customInput": null,
    "executionStartTime": 1758305917056,
    "executionStopTime": 1758305917476,
    "isCommentPanelOpen": false,
    "jupyter": {
     "outputs_hidden": false
    },
    "language": "python",
    "originalKey": "18bcb0f7-3cc9-4b57-9858-b44acb682fb5",
    "output": {
     "id": "1451953479449281",
     "output_revision_id": "2406306033137441"
    },
    "outputsInitialized": true,
    "requestMsgId": "a75bd331-fa49-4892-ad9d-30ed45a7c2b0",
    "serverExecutionDuration": 4.4165067374706,
    "showInput": true
   },
   "outputs": [
    {
     "name": "stdout",
     "output_type": "stream",
     "text": [
      "0.12083215043539229\n",
      "0.49208613698457804\n",
      "4711.954223390472\n"
     ]
    }
   ],
   "source": [
    "#6\n",
    "arch = [[2048, 2048, 1024, 512, 256], [1024, 512, 256], [512, 256], [256, 128], [128, 64]]\n",
    "out,ne, qps, curve = score(arch)\n",
    "print(out)\n",
    "print(ne)\n",
    "print(qps)\n",
    "#print(curve)\n",
    "results[str(arch)] = (out,qps)"
   ]
  },
  {
   "cell_type": "code",
   "execution_count": 26,
   "metadata": {
    "bentoAICellStatus": "none",
    "collapsed": false,
    "customInput": null,
    "executionStartTime": 1758305917239,
    "executionStopTime": 1758305917664,
    "isCommentPanelOpen": false,
    "jupyter": {
     "outputs_hidden": false
    },
    "language": "python",
    "originalKey": "94de9949-8c38-4be7-8b31-828ac045bb38",
    "output": {
     "id": "2229525924231442",
     "output_revision_id": "1322716262825280"
    },
    "outputsInitialized": true,
    "requestMsgId": "90648834-2f6d-45aa-9adf-ecf58b9e58d9",
    "serverExecutionDuration": 3.8660354912281,
    "showInput": true
   },
   "outputs": [
    {
     "name": "stdout",
     "output_type": "stream",
     "text": [
      "0.07950397635142412\n",
      "0.5152182630554729\n",
      "8870.34444899329\n"
     ]
    }
   ],
   "source": [
    "#7\n",
    "arch = [[1536, 1024, 512, 256], [1024, 512, 256], [512, 256], [256, 128], [128, 64]]\n",
    "out,ne, qps, curve = score(arch)\n",
    "print(out)\n",
    "print(ne)\n",
    "print(qps)\n",
    "#print(curve)\n",
    "results[str(arch)] = (out,qps)"
   ]
  },
  {
   "cell_type": "code",
   "execution_count": 27,
   "metadata": {
    "bentoAICellStatus": "none",
    "collapsed": false,
    "customInput": null,
    "executionStartTime": 1758305917428,
    "executionStopTime": 1758305917807,
    "isCommentPanelOpen": false,
    "jupyter": {
     "outputs_hidden": false
    },
    "language": "python",
    "originalKey": "316fb405-d249-4aeb-84b6-07cdc00d780e",
    "output": {
     "id": "1538266284207583",
     "output_revision_id": "24262489786755142"
    },
    "outputsInitialized": true,
    "requestMsgId": "f60c9f65-e9d2-46c5-bd52-ea942a08816e",
    "serverExecutionDuration": 4.1284561157227,
    "showInput": true
   },
   "outputs": [
    {
     "name": "stdout",
     "output_type": "stream",
     "text": [
      "0.10489373453103965\n",
      "0.5010071564644312\n",
      "6796.5132568360195\n"
     ]
    }
   ],
   "source": [
    "#8\n",
    "arch = [[1792, 1280, 768, 384], [1024, 512, 256], [512, 256], [256, 128], [128, 64]]\n",
    "out,ne, qps, curve = score(arch)\n",
    "print(out)\n",
    "print(ne)\n",
    "print(qps)\n",
    "#print(curve)\n",
    "results[str(arch)] = (out,qps)"
   ]
  },
  {
   "cell_type": "code",
   "execution_count": 28,
   "metadata": {
    "bentoAICellStatus": "none",
    "collapsed": false,
    "customInput": null,
    "executionStartTime": 1758305918273,
    "executionStopTime": 1758305918578,
    "isCommentPanelOpen": false,
    "jupyter": {
     "outputs_hidden": false
    },
    "language": "python",
    "originalKey": "7be22571-da31-48b6-b31d-eb869f619769",
    "output": {
     "id": "1014417797390732",
     "output_revision_id": "1235958431631912"
    },
    "outputsInitialized": true,
    "requestMsgId": "1a8bf087-b420-4f90-b860-12285c6290a4",
    "serverExecutionDuration": 4.5734457671642,
    "showInput": true
   },
   "outputs": [
    {
     "name": "stdout",
     "output_type": "stream",
     "text": [
      "0.11994064339815777\n",
      "0.49258512958794104\n",
      "5530.548710407279\n"
     ]
    }
   ],
   "source": [
    "#9\n",
    "arch = [[2048, 1536, 1024, 512, 256], [1024, 512, 256], [512, 256], [256, 128], [128, 64]]\n",
    "out,ne, qps, curve = score(arch)\n",
    "print(out)\n",
    "print(ne)\n",
    "print(qps)\n",
    "#print(curve)\n",
    "results[str(arch)] = (out,qps)"
   ]
  },
  {
   "cell_type": "code",
   "execution_count": 29,
   "metadata": {
    "bentoAICellStatus": "none",
    "collapsed": false,
    "customInput": null,
    "executionStartTime": 1758305919348,
    "executionStopTime": 1758305919800,
    "isCommentPanelOpen": false,
    "jupyter": {
     "outputs_hidden": false
    },
    "language": "python",
    "originalKey": "98de3ba3-91f5-4abb-96e6-5f575a0118b1",
    "output": {
     "id": "1122524502731513",
     "output_revision_id": "2251816818599401"
    },
    "outputsInitialized": true,
    "requestMsgId": "9882ba9f-ef30-43ab-92fc-44d6531275f1",
    "serverExecutionDuration": 4.6092011034489,
    "showInput": true
   },
   "outputs": [
    {
     "name": "stdout",
     "output_type": "stream",
     "text": [
      "0.12059338926467845\n",
      "0.4922197759276043\n",
      "5156.940891439319\n"
     ]
    }
   ],
   "source": [
    "#10 - cheating\n",
    "arch = [[2048, 1536, 1024, 768, 512, 256], [1024, 512, 256], [512, 256], [256, 128], [128, 64]]\n",
    "out,ne, qps, curve = score(arch)\n",
    "print(out)\n",
    "print(ne)\n",
    "print(qps)\n",
    "#print(curve)\n",
    "results[str(arch)] = (out,qps)"
   ]
  },
  {
   "cell_type": "code",
   "execution_count": 32,
   "metadata": {
    "collapsed": false,
    "customInput": null,
    "executionStartTime": 1758305946171,
    "executionStopTime": 1758305946481,
    "jupyter": {
     "outputs_hidden": false
    },
    "language": "python",
    "originalKey": "0b561423-c7f3-48ed-8ae2-7a3bb91e338b",
    "output": {
     "id": "1089912259976926",
     "output_revision_id": "735801752957853"
    },
    "outputsInitialized": true,
    "requestMsgId": "e3794d7f-3c14-40b4-a668-a8319ad61810",
    "serverExecutionDuration": 5.7471832260489,
    "showInput": true
   },
   "outputs": [
    {
     "data": {
      "application/vnd.dataresource+json": {
       "data": [
        {
         "index": "[[512, 512]]",
         "ne": -0.0174933602
        },
        {
         "index": "[[1024, 1024, 512]]",
         "ne": 0.0125856648
        },
        {
         "index": "[[1024, 1024], [512, 512]]",
         "ne": 0.031595298
        },
        {
         "index": "[[1024, 1024, 512], [512, 512, 256], [256, 256]]",
         "ne": 0.0483839584
        },
        {
         "index": "[[2048, 1024, 512], [1024, 512, 256], [512, 256], [256, 128]]",
         "ne": 0.0893763621
        },
        {
         "index": "[[2048, 2048, 1024, 512, 256], [1024, 512, 256], [512, 256], [256, 128], [128, 64]]",
         "ne": 0.1208321504
        },
        {
         "index": "[[1536, 1024, 512, 256], [1024, 512, 256], [512, 256], [256, 128], [128, 64]]",
         "ne": 0.0795039764
        },
        {
         "index": "[[1792, 1280, 768, 384], [1024, 512, 256], [512, 256], [256, 128], [128, 64]]",
         "ne": 0.1048937345
        },
        {
         "index": "[[2048, 1536, 1024, 512, 256], [1024, 512, 256], [512, 256], [256, 128], [128, 64]]",
         "ne": 0.1199406434
        },
        {
         "index": "[[2048, 1536, 1024, 768, 512, 256], [1024, 512, 256], [512, 256], [256, 128], [128, 64]]",
         "ne": 0.1205933893
        }
       ],
       "schema": {
        "fields": [
         {
          "name": "index",
          "type": "string"
         },
         {
          "name": "ne",
          "type": "number"
         }
        ],
        "pandas_version": "1.4.0",
        "primaryKey": [
         "index"
        ]
       }
      },
      "text/plain": [
       "[[512, 512]]                                                                               -0.017493\n",
       "[[1024, 1024, 512]]                                                                         0.012586\n",
       "[[1024, 1024], [512, 512]]                                                                  0.031595\n",
       "[[1024, 1024, 512], [512, 512, 256], [256, 256]]                                            0.048384\n",
       "[[2048, 1024, 512], [1024, 512, 256], [512, 256], [256, 128]]                               0.089376\n",
       "[[2048, 2048, 1024, 512, 256], [1024, 512, 256], [512, 256], [256, 128], [128, 64]]         0.120832\n",
       "[[1536, 1024, 512, 256], [1024, 512, 256], [512, 256], [256, 128], [128, 64]]               0.079504\n",
       "[[1792, 1280, 768, 384], [1024, 512, 256], [512, 256], [256, 128], [128, 64]]               0.104894\n",
       "[[2048, 1536, 1024, 512, 256], [1024, 512, 256], [512, 256], [256, 128], [128, 64]]         0.119941\n",
       "[[2048, 1536, 1024, 768, 512, 256], [1024, 512, 256], [512, 256], [256, 128], [128, 64]]    0.120593\n",
       "Name: ne, dtype: float64"
      ]
     },
     "execution_count": 32,
     "metadata": {},
     "output_type": "execute_result"
    }
   ],
   "source": [
    "results\n",
    "result_df = pd.DataFrame.from_dict(results, orient='index')\n",
    "result_df.columns = ['ne', 'qps']\n",
    "\n",
    "result_df = result_df[result_df.qps>3500]['ne']\n",
    "result_df "
   ]
  },
  {
   "cell_type": "code",
   "execution_count": 33,
   "metadata": {
    "bentoAICellStatus": "none",
    "collapsed": false,
    "customInput": null,
    "executionStartTime": 1758305962316,
    "executionStopTime": 1758305962895,
    "isCommentPanelOpen": false,
    "jupyter": {
     "outputs_hidden": false
    },
    "language": "python",
    "originalKey": "8aa16076-62ac-48d4-bf27-cf5d9ff28ee5",
    "output": {
     "id": "1379578433687923",
     "output_revision_id": "2087333898754726"
    },
    "outputsInitialized": true,
    "requestMsgId": "91fbf31c-ec53-4356-9c26-623580cd3949",
    "serverExecutionDuration": 193.62643361092,
    "showInput": true
   },
   "outputs": [
    {
     "data": {
      "text/plain": [
       "[Text(0, 0, '[[512, 512]]'),\n",
       " Text(1, 0, '[[1024, 1024, 512]]'),\n",
       " Text(2, 0, '[[1024, 1024], [512, 512]]'),\n",
       " Text(3, 0, '[[1024, 1024, 512], [512, 512, 256], [256, 256]]'),\n",
       " Text(4, 0, '[[2048, 1024, 512], [1024, 512, 256], [512, 256], [256, 128]]'),\n",
       " Text(5, 0, '[[2048, 2048, 1024, 512, 256], [1024, 512, 256], [512, 256], [256, 128], [128, 64]]'),\n",
       " Text(6, 0, '[[1536, 1024, 512, 256], [1024, 512, 256], [512, 256], [256, 128], [128, 64]]'),\n",
       " Text(7, 0, '[[1792, 1280, 768, 384], [1024, 512, 256], [512, 256], [256, 128], [128, 64]]'),\n",
       " Text(8, 0, '[[2048, 1536, 1024, 512, 256], [1024, 512, 256], [512, 256], [256, 128], [128, 64]]'),\n",
       " Text(9, 0, '[[2048, 1536, 1024, 768, 512, 256], [1024, 512, 256], [512, 256], [256, 128], [128, 64]]')]"
      ]
     },
     "execution_count": 33,
     "metadata": {},
     "output_type": "execute_result"
    },
    {
     "data": {
      "image/png": "[encoded data removed]",
      "text/plain": [
       "<Figure size 800x400 with 1 Axes>"
      ]
     },
     "metadata": {},
     "output_type": "display_data"
    }
   ],
   "source": [
    "import pandas as pd\n",
    "import matplotlib.pyplot as plt\n",
    "#result_df = pd.DataFrame.from_dict(results, orient='index')\n",
    "plot_df = result_df\n",
    "ax = plot_df.plot(figsize=(8, 4))\n",
    "# Set tick marks for all data points\n",
    "ax.set_xticks(range(len(plot_df)))  # 0 to 9 for 10 points\n",
    "ax.set_xticklabels(plot_df.index, rotation=90)  # Use your index as labels, rotated 90 degrees\n"
   ]
  },
  {
   "cell_type": "code",
   "execution_count": null,
   "metadata": {
    "bentoAICellStatus": "none",
    "collapsed": false,
    "customInput": null,
    "isCommentPanelOpen": false,
    "jupyter": {
     "outputs_hidden": false
    },
    "language": "python",
    "originalKey": "49c852cc-8abe-4584-9580-b219e99f7a35",
    "outputsInitialized": false,
    "showInput": true
   },
   "outputs": [],
   "source": [
    "print(result_df)"
   ]
  },
  {
   "cell_type": "code",
   "execution_count": null,
   "metadata": {
    "bentoAICellStatus": "none",
    "collapsed": false,
    "customInput": null,
    "isCommentPanelOpen": false,
    "jupyter": {
     "outputs_hidden": false
    },
    "language": "python",
    "originalKey": "76a5a4a1-fd2c-4454-8c65-d6d30ad72aa1",
    "outputsInitialized": false,
    "showInput": true
   },
   "outputs": [],
   "source": []
  },
  {
   "cell_type": "code",
   "execution_count": null,
   "metadata": {
    "bentoAICellStatus": "none",
    "customInput": null,
    "isCommentPanelOpen": false,
    "language": "python",
    "originalKey": "878dc5e5-2320-4aef-b1ee-a52bf1cd3855",
    "outputsInitialized": false,
    "showInput": true
   },
   "outputs": [],
   "source": []
  }
 ],
 "metadata": {
  "bento_stylesheets": {
   "bento/extensions/flow/main.css": true,
   "bento/extensions/kernel_selector/main.css": true,
   "bento/extensions/kernel_ui/main.css": true,
   "bento/extensions/new_kernel/main.css": true,
   "bento/extensions/system_usage/main.css": true,
   "bento/extensions/theme/main.css": true
  },
  "kernelspec": {
   "display_name": "Python 3 (ipykernel)",
   "language": "python",
   "name": "python3"
  },
  "language_info": {
   "codemirror_mode": {
    "name": "ipython",
    "version": 3
   },
   "file_extension": ".py",
   "mimetype": "text/x-python",
   "name": "python",
   "nbconvert_exporter": "python",
   "pygments_lexer": "ipython3",
   "version": "3.10.10"
  },
  "last_base_url": "https://bento.edge.x2p.facebook.net/",
  "last_kernel_id": "8ae14b8f-cf38-47aa-b971-2f94a2a921b1",
  "last_msg_id": "7e3711d9-ce264534e03df1aeae72a94a_358",
  "last_server_session_id": "f2baa495-136f-4d8e-936a-8d8b805977bf"
 },
 "nbformat": 4,
 "nbformat_minor": 4
}
